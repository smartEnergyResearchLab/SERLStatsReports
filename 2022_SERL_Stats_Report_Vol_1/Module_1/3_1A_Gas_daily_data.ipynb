{
 "cells": [
  {
   "cell_type": "markdown",
   "metadata": {},
   "source": [
    "# About\n",
    "This notebook will produce all the gas daily data for step 3.1A of the data processing for Module 1.\n",
    "\n",
    "**This requires output from the previous step - 1.1A - so run that notebook first**\n",
    "\n",
    "---"
   ]
  },
  {
   "cell_type": "markdown",
   "metadata": {},
   "source": [
    "**Required user input**\n",
    "\n",
    "Update the cell below once each for the full years of 2019, 2020, 2021, and run the entire notebook for each.\n"
   ]
  },
  {
   "cell_type": "code",
   "execution_count": null,
   "metadata": {},
   "outputs": [],
   "source": [
    "year = '2021' # Update year - this is the year of data you are working on."
   ]
  },
  {
   "cell_type": "code",
   "execution_count": null,
   "metadata": {},
   "outputs": [],
   "source": [
    "# Don't change these.\n",
    "source_directory='Step_1_1_Outputs'\n",
    "source_filename = 'Step_1_1A_Gas_'+year+'_daily.csv'\n",
    "\n",
    "output_directory='Step_3_1_Outputs'\n",
    "output_filename='Step_3_1A_Gas_'+year+'_daily.csv'"
   ]
  },
  {
   "cell_type": "markdown",
   "metadata": {},
   "source": [
    "# Code\n",
    "\n",
    "## Setup"
   ]
  },
  {
   "cell_type": "code",
   "execution_count": null,
   "metadata": {},
   "outputs": [],
   "source": [
    "import os\n",
    "import pandas as pd\n",
    "import numpy as np"
   ]
  },
  {
   "cell_type": "markdown",
   "metadata": {},
   "source": [
    "## Process the data"
   ]
  },
  {
   "cell_type": "code",
   "execution_count": null,
   "metadata": {},
   "outputs": [],
   "source": [
    "# Load the source csv calculated in 1.1A\n",
    "energy_daily_data = pd.read_csv(os.path.join(source_directory,source_filename),\n",
    "                            usecols=['PUPRN','Read_date_effective_local',\n",
    "                                     'Gas_flag','Gas_d_kWh','Gas_hh_sum_kWh'],\n",
    "                                index_col=['PUPRN','Read_date_effective_local'])"
   ]
  },
  {
   "cell_type": "code",
   "execution_count": null,
   "metadata": {},
   "outputs": [],
   "source": [
    "# Check the data has no duplicates and is sorted by PUPRN then date\n",
    "all_rows_as_expected = (energy_daily_data.index.is_monotonic_increasing & energy_daily_data.index.is_unique)\n",
    "if all_rows_as_expected == True:\n",
    "    print('Data is sorted by PUPRN then date and has no duplicates, as it should be.')\n",
    "else:\n",
    "    print('WARNING! Your data has duplicates of PUPRN and date, or is out of order - check and fix before continuing.')"
   ]
  },
  {
   "cell_type": "code",
   "execution_count": null,
   "metadata": {},
   "outputs": [],
   "source": [
    "# Add a gas flag column\n",
    "energy_daily_data['Hh_sum_flag_gas']=np.nan\n",
    "\n",
    "# Then create the best estimate of the actual usage, with appropriate flag values.\n",
    "\n",
    "# If there is a reading based on hh data, use that. (We can just rename Gas_hh_sum_kWh)\n",
    "energy_daily_data.rename(columns={'Gas_hh_sum_kWh':'Clean_gas_d_kWh'},inplace=True)\n",
    "energy_daily_data.loc[energy_daily_data.Clean_gas_d_kWh.notnull(), 'Hh_sum_flag_gas']=1 # Value 1 for source data being a hh sum\n",
    "\n",
    "# If there is no reading based on hh data, then if the Gas_flag=1, use the Gas_d_kWh.\n",
    "energy_daily_data.loc[(energy_daily_data.Clean_gas_d_kWh.isnull())&(energy_daily_data.Gas_flag==1),'Hh_sum_flag_gas']=0\n",
    "energy_daily_data.loc[(energy_daily_data.Clean_gas_d_kWh.isnull())&(energy_daily_data.Gas_flag==1),'Clean_gas_d_kWh']=energy_daily_data.Gas_d_kWh\n"
   ]
  },
  {
   "cell_type": "code",
   "execution_count": null,
   "metadata": {},
   "outputs": [],
   "source": [
    "energy_daily_data.head()"
   ]
  },
  {
   "cell_type": "code",
   "execution_count": null,
   "metadata": {},
   "outputs": [],
   "source": [
    "# Save the relevant columns to merge with the electricity readings later.\n",
    "if not os.path.exists(os.path.join(output_directory)):\n",
    "    os.makedirs(os.path.join(output_directory))\n",
    "energy_daily_data[['Clean_gas_d_kWh','Hh_sum_flag_gas']].to_csv(os.path.join(output_directory,output_filename),index=True)\n",
    "print(\"Job done. Everything saved.\")"
   ]
  }
 ],
 "metadata": {
  "kernelspec": {
   "display_name": "Python 3",
   "language": "python",
   "name": "python3"
  },
  "language_info": {
   "codemirror_mode": {
    "name": "ipython",
    "version": 3
   },
   "file_extension": ".py",
   "mimetype": "text/x-python",
   "name": "python",
   "nbconvert_exporter": "python",
   "pygments_lexer": "ipython3",
   "version": "3.8.8"
  }
 },
 "nbformat": 4,
 "nbformat_minor": 4
}
