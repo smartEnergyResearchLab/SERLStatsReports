{
 "cells": [
  {
   "cell_type": "markdown",
   "metadata": {},
   "source": [
    "# About\n",
    "This notebook will produce the remaining electricity daily data for step 1.1C of the data processing for Module 1.\n",
    "\n",
    "**This requires output from the previous step - 1_1B - so run that notebook first**\n",
    "\n",
    "---"
   ]
  },
  {
   "cell_type": "markdown",
   "metadata": {},
   "source": [
    "**Required user input**\n",
    "\n",
    "Update the cell below once each for the full years of 2019, 2020, 2021, and run the entire notebook for each.\n"
   ]
  },
  {
   "cell_type": "code",
   "execution_count": null,
   "metadata": {},
   "outputs": [],
   "source": [
    "year = '2021' # Update year - this is the year of data you are working on."
   ]
  },
  {
   "cell_type": "code",
   "execution_count": null,
   "metadata": {},
   "outputs": [],
   "source": [
    "# Don't change these.\n",
    "source_directory='Step_1_1_Outputs\\Step_1_1B_Elec_'+year+'_hh' # This is the path the pre-calculated clean hh data files are saved in\n",
    "\n",
    "output_directory='Step_1_1_Outputs'\n",
    "output_filename = 'Step_1_1C_Elec_'+year+'_daily_from_hh.csv'\n",
    "exporter_list_filename = 'Step_1_1C_Elec_'+year+'_list_of_exporter_puprns.csv'"
   ]
  },
  {
   "cell_type": "markdown",
   "metadata": {},
   "source": [
    "# Code\n",
    "## Setup"
   ]
  },
  {
   "cell_type": "code",
   "execution_count": null,
   "metadata": {},
   "outputs": [],
   "source": [
    "import os\n",
    "import pandas as pd\n",
    "import locations\n",
    "# Clock change dates\n",
    "clock_changes = pd.read_csv(os.path.join(locations.serl_data_path,locations.bst_dates),index_col=False,usecols=['Read_date_effective_local','n_hh'])"
   ]
  },
  {
   "cell_type": "code",
   "execution_count": null,
   "metadata": {},
   "outputs": [],
   "source": [
    "#Get list of PUPRNs to work with, from the source directory\n",
    "puprn_filelist = [f for f in os.listdir(source_directory) if os.path.isfile(os.path.join(source_directory, f))]\n",
    "puprn_filelist = sorted(puprn_filelist, key=str.lower)\n",
    "print('Check this is how many PUPRN hh files you were expecting to find:\\n',\n",
    "      len(puprn_filelist))"
   ]
  },
  {
   "cell_type": "markdown",
   "metadata": {},
   "source": [
    "## Loop through the list of PUPRNs calculating daily net electricity use per day for each\n",
    "\n",
    "We also want to create a definitive list of PUPRNs that have any export data at all for this year at the same time."
   ]
  },
  {
   "cell_type": "code",
   "execution_count": null,
   "metadata": {},
   "outputs": [],
   "source": [
    "puprns_saved=0\n",
    "exporter_puprn_list=[]\n",
    "# We'll be appending each PUPRN's data to the csv of results. Create a blank csv with just headers first, otherwise we either get no headers or duplicate headers below.\n",
    "# NB. Elec_act_imp_hh_sum_Wh is calculated and saved too for a final step of data cleaning in 3.1B. \n",
    "pd.DataFrame(columns=['PUPRN','Read_date_effective_local',\n",
    "                      'Elec_act_net_flag','Elec_act_net_hh_sum_Wh',\n",
    "                      'Elec_act_imp_hh_sum_Wh']).to_csv(os.path.join(output_directory,output_filename), index=False)\n",
    "\n",
    "for i in puprn_filelist:\n",
    "    temp_data = pd.read_csv(os.path.join(source_directory,i),\n",
    "                            usecols=['PUPRN','Read_date_effective_local',\n",
    "                                     'Elec_act_net_hh_Wh','Elec_act_exp_hh_Wh','Elec_act_imp_hh_Wh'])\n",
    "    daily_energy = temp_data[['PUPRN','Read_date_effective_local','Elec_act_net_hh_Wh','Elec_act_imp_hh_Wh']].groupby(['PUPRN','Read_date_effective_local']).agg(['count','sum']).reset_index()\n",
    "    daily_energy.columns = ['_'.join(col).strip() for col in daily_energy.columns.values]\n",
    "    daily_energy.rename(columns={'PUPRN_':'PUPRN','Read_date_effective_local_':'Read_date_effective_local','Elec_act_net_hh_Wh_sum':'Elec_act_net_hh_sum_Wh','Elec_act_imp_hh_Wh_sum':'Elec_act_imp_hh_sum_Wh'},inplace=True)\n",
    "    # Flag days with valid hh net totals (i.e. where all 48, or 46/50, reads are present)\n",
    "    daily_energy = pd.merge(daily_energy,clock_changes,on='Read_date_effective_local',how='left')\n",
    "    daily_energy['Elec_act_net_flag']=0\n",
    "    # For non-clock change days, flag as 1 if 48 reads are present\n",
    "    daily_energy.loc[(daily_energy.Elec_act_net_hh_Wh_count==48) & (daily_energy.n_hh.isnull()),'Elec_act_net_flag']=1\n",
    "    # Now flag 1 for the clock change days where 46/50 reads are present.\n",
    "    daily_energy.loc[daily_energy.Elec_act_net_hh_Wh_count==daily_energy.n_hh,'Elec_act_net_flag']=1\n",
    "    # Keep rows only where the flag equals 1\n",
    "    daily_energy=daily_energy.loc[daily_energy.Elec_act_net_flag==1]\n",
    "    # Save the relevant output, appended to the rest (it should already be sorted by Read_date_effective_local)\n",
    "    daily_energy[['PUPRN','Read_date_effective_local','Elec_act_net_flag','Elec_act_net_hh_sum_Wh','Elec_act_imp_hh_sum_Wh']].to_csv(os.path.join(output_directory,output_filename), mode='a', header=None, index=False)\n",
    "    puprns_saved=puprns_saved+1\n",
    "    # Make a note if the home ever exports electricity this year.\n",
    "    if (temp_data.Elec_act_exp_hh_Wh.sum()>0): # This will ignore Nans for summing, and produce False if all rows are Nan\n",
    "        exporter_puprn_list.append(i[:-4]) # Adds the PUPRN, without the .csv suffix\n",
    "    # Note progress occasionally (every 250 homes):\n",
    "    if puprns_saved % 250 == 0:\n",
    "        print(puprns_saved,\"PUPRNs of data have been processed. Continuing...\")\n",
    "\n",
    "# Save exporter list (pandas is actually the neatest way to save a list to csv!)\n",
    "pd.Series(exporter_puprn_list).to_csv(os.path.join(output_directory,exporter_list_filename), index=False)\n",
    "\n",
    "print('Job done, total PUPRNs gone through =',puprns_saved,'\\nOf which, this many exported electricity at some point:',len(exporter_puprn_list))"
   ]
  },
  {
   "cell_type": "code",
   "execution_count": null,
   "metadata": {},
   "outputs": [],
   "source": []
  }
 ],
 "metadata": {
  "kernelspec": {
   "display_name": "Python 3",
   "language": "python",
   "name": "python3"
  },
  "language_info": {
   "codemirror_mode": {
    "name": "ipython",
    "version": 3
   },
   "file_extension": ".py",
   "mimetype": "text/x-python",
   "name": "python",
   "nbconvert_exporter": "python",
   "pygments_lexer": "ipython3",
   "version": "3.8.8"
  }
 },
 "nbformat": 4,
 "nbformat_minor": 4
}
