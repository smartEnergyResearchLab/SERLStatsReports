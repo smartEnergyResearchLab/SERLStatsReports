{
 "cells": [
  {
   "cell_type": "markdown",
   "metadata": {},
   "source": [
    "# About\n",
    "This notebook will produce all the electricity data for step 3.1B of the data processing for Module 1.\n",
    "\n",
    "**This requires output from the previous steps - 1.1B and 1.1C- so run those notebooks first**\n",
    "\n",
    "---"
   ]
  },
  {
   "cell_type": "markdown",
   "metadata": {},
   "source": [
    "**Required user input**\n",
    "\n",
    "Update the cell below once each for the full years of 2019, 2020, 2021, and run the entire notebook for each.\n"
   ]
  },
  {
   "cell_type": "code",
   "execution_count": null,
   "metadata": {},
   "outputs": [],
   "source": [
    "year = '2021' # Update year - this is the year of data you are working on.\n",
    "# Some electricity meters sometimes report hh_sums in units of 10Wh. Set below whether to: on a day by day basis, use the daily read instead if valid (or else Nan); or, remove PUPRNs' data entirely wherever this occurs.\n",
    "treat_hh_sum_10Wh = 'by_PUPRN' # Set as by_day or by_PUPRN."
   ]
  },
  {
   "cell_type": "code",
   "execution_count": null,
   "metadata": {},
   "outputs": [],
   "source": [
    "# Don't change these.\n",
    "source_directory_from_daily='Step_1_1_Outputs'\n",
    "source_directory_from_hh=source_directory_from_daily\n",
    "\n",
    "source_filename_from_daily = 'Step_1_1B_Elec_'+year+'_daily_from_daily.csv'\n",
    "source_filename_from_hh = 'Step_1_1C_Elec_'+year+'_daily_from_hh.csv'\n",
    "source_exporter_puprn_list_filename = 'Step_1_1C_Elec_'+year+'_list_of_exporter_puprns.csv'\n",
    "\n",
    "output_directory='Step_3_1_Outputs'\n",
    "output_filename='Step_3_1B_Elec_'+year+'_daily.csv'"
   ]
  },
  {
   "cell_type": "markdown",
   "metadata": {},
   "source": [
    "# Code\n",
    "\n",
    "## Setup"
   ]
  },
  {
   "cell_type": "code",
   "execution_count": null,
   "metadata": {},
   "outputs": [],
   "source": [
    "import os\n",
    "import pandas as pd\n",
    "import numpy as np"
   ]
  },
  {
   "cell_type": "markdown",
   "metadata": {},
   "source": [
    "## Process the data"
   ]
  },
  {
   "cell_type": "code",
   "execution_count": null,
   "metadata": {},
   "outputs": [],
   "source": [
    "# Load the list of exporting homes\n",
    "exporter_puprn_list = pd.read_csv(os.path.join(source_directory_from_hh,source_exporter_puprn_list_filename),header=None)[0].tolist()"
   ]
  },
  {
   "cell_type": "code",
   "execution_count": null,
   "metadata": {},
   "outputs": [],
   "source": [
    "# Load the source csvs calculated in 1.1B and 1.1C.\n",
    "energy_daily_data_from_daily = pd.read_csv(os.path.join(source_directory_from_daily,source_filename_from_daily),\n",
    "                                           index_col=['PUPRN','Read_date_effective_local'])\n",
    "energy_daily_data_from_hh = pd.read_csv(os.path.join(source_directory_from_hh,source_filename_from_hh),\n",
    "                                       index_col=['PUPRN','Read_date_effective_local'])\n",
    "\n",
    "# Merge them together, keeping everything\n",
    "energy_daily_data = pd.merge(energy_daily_data_from_daily,energy_daily_data_from_hh,left_index=True,right_index=True,how='outer')"
   ]
  },
  {
   "cell_type": "code",
   "execution_count": null,
   "metadata": {},
   "outputs": [],
   "source": [
    "energy_daily_data[energy_daily_data.Elec_act_imp_hh_sum_Wh.notnull()].head()"
   ]
  },
  {
   "cell_type": "code",
   "execution_count": null,
   "metadata": {},
   "outputs": [],
   "source": [
    "# Check the data has no duplicates and is sorted by PUPRN then date\n",
    "all_rows_as_expected = (energy_daily_data.index.is_monotonic_increasing & energy_daily_data.index.is_unique)\n",
    "if all_rows_as_expected == True:\n",
    "    print('Data is sorted by PUPRN then date and has no duplicates, as it should be.')\n",
    "else:\n",
    "    print('WARNING! Your data has duplicates of PUPRN and date, or is out of order - check and fix before continuing.')"
   ]
  },
  {
   "cell_type": "code",
   "execution_count": null,
   "metadata": {},
   "outputs": [],
   "source": [
    "# Add an electricity flag column\n",
    "energy_daily_data['Hh_sum_flag_elec']=np.nan\n",
    "\n",
    "## Then create the best estimate of the actual usage, with appropriate flag values.\n",
    "\n",
    "# If there is a reading based on hh data, use that.  (We can just rename Elec_act_net_hh_sum_Wh - we'll convert to kWh later)\n",
    "energy_daily_data.rename(columns={'Elec_act_net_hh_sum_Wh':'Clean_elec_net_d_Wh'},inplace=True)\n",
    "energy_daily_data.loc[energy_daily_data.Clean_elec_net_d_Wh.notnull(), 'Hh_sum_flag_elec']=1 # Value 1 for source data being a hh sum\n",
    "\n",
    "# If there is no reading based on hh data, then if the Elec_act_imp_flag==1 (a valid read from the daily data) AND the PUPRN never exports electricity (it's not in exporter_puprn_list), use the Elec_act_imp_d_Wh.\n",
    "energy_daily_data.loc[(energy_daily_data.Clean_elec_net_d_Wh.isnull())&\n",
    "                      (energy_daily_data.Elec_act_imp_flag==1)&\n",
    "                      (~energy_daily_data.index.isin(exporter_puprn_list,level='PUPRN')),\n",
    "                      'Hh_sum_flag_elec']=0 # Value 0 for source data being a daily read\n",
    "energy_daily_data.loc[(energy_daily_data.Clean_elec_net_d_Wh.isnull())&\n",
    "                      (energy_daily_data.Elec_act_imp_flag==1)&\n",
    "                      (~energy_daily_data.index.isin(exporter_puprn_list,level='PUPRN')),\n",
    "                      'Clean_elec_net_d_Wh']=energy_daily_data.Elec_act_imp_d_Wh\n",
    "\n",
    "# Final data cleaning - deal with occasional cases where hh readings are apparently stored in units of 10s of Wh\n",
    "# For all rows where the daily sum is around 10x the import hh_sum (between 8 and 12 times), we treat the daily sum as being the correct import value. \n",
    "# First, check how common this issue is\n",
    "rowsof10Wh = energy_daily_data.loc[(energy_daily_data.Elec_act_imp_d_Wh>=8*energy_daily_data.Elec_act_imp_hh_sum_Wh)&\n",
    "                                   (energy_daily_data.Elec_act_imp_d_Wh<=12*energy_daily_data.Elec_act_imp_hh_sum_Wh)].shape[0]\n",
    "all_data_length = energy_daily_data.shape[0]\n",
    "affected_PUPRNs=(energy_daily_data.loc[(energy_daily_data.Elec_act_imp_d_Wh>=8*energy_daily_data.Elec_act_imp_hh_sum_Wh)&\n",
    "                                       (energy_daily_data.Elec_act_imp_d_Wh<=12*energy_daily_data.Elec_act_imp_hh_sum_Wh)].index.get_level_values('PUPRN').unique().tolist())\n",
    "affected_PUPRN_count=len(affected_PUPRNs)\n",
    "all_PUPRN_count = len(energy_daily_data.index.get_level_values('PUPRN').unique().tolist())\n",
    "\n",
    "if treat_hh_sum_10Wh == 'by_day':\n",
    "    # If the home does not export data for that day (the net and import hh_sums are equal), then we can use the daily sum, assuming it to be accurate.\n",
    "    energy_daily_data.loc[(energy_daily_data.Elec_act_imp_d_Wh>=8*energy_daily_data.Elec_act_imp_hh_sum_Wh)&\n",
    "                          (energy_daily_data.Elec_act_imp_d_Wh<=12*energy_daily_data.Elec_act_imp_hh_sum_Wh)&\n",
    "                          (energy_daily_data.Elec_act_imp_hh_sum_Wh==energy_daily_data.Clean_elec_net_d_Wh),\n",
    "                          'Hh_sum_flag_elec']=0\n",
    "    energy_daily_data.loc[(energy_daily_data.Elec_act_imp_d_Wh>=8*energy_daily_data.Elec_act_imp_hh_sum_Wh)&\n",
    "                          (energy_daily_data.Elec_act_imp_d_Wh<=12*energy_daily_data.Elec_act_imp_hh_sum_Wh)&\n",
    "                          (energy_daily_data.Elec_act_imp_hh_sum_Wh==energy_daily_data.Clean_elec_net_d_Wh),\n",
    "                          'Clean_elec_net_d_Wh']=energy_daily_data.Elec_act_imp_d_Wh\n",
    "    # If the home does export data (the net and import hh_sums are not equal), then we have to treat the data as missing - neither the hh_sum nor the daily read are accurate measures of net electricity use.\n",
    "    energy_daily_data.loc[(energy_daily_data.Elec_act_imp_d_Wh>=8*energy_daily_data.Elec_act_imp_hh_sum_Wh)&\n",
    "                          (energy_daily_data.Elec_act_imp_d_Wh<=12*energy_daily_data.Elec_act_imp_hh_sum_Wh)&\n",
    "                          (energy_daily_data.Elec_act_imp_hh_sum_Wh!=energy_daily_data.Clean_elec_net_d_Wh),\n",
    "                          'Hh_sum_flag_elec']=np.nan\n",
    "    energy_daily_data.loc[(energy_daily_data.Elec_act_imp_d_Wh>=8*energy_daily_data.Elec_act_imp_hh_sum_Wh)&\n",
    "                          (energy_daily_data.Elec_act_imp_d_Wh<=12*energy_daily_data.Elec_act_imp_hh_sum_Wh)&\n",
    "                          (energy_daily_data.Elec_act_imp_hh_sum_Wh!=energy_daily_data.Clean_elec_net_d_Wh),\n",
    "                          'Clean_elec_net_d_Wh']=np.nan\n",
    "    report_10Wh = 'These were fixed on a day by day basis for the affected rows by using the daily read where valid to do so, or else assigning a value of NaN.'\n",
    "elif treat_hh_sum_10Wh == 'by_PUPRN':\n",
    "    energy_daily_data = energy_daily_data.drop(affected_PUPRNs,level='PUPRN')\n",
    "    final_PUPRN_count=len(energy_daily_data.index.get_level_values('PUPRN').unique().tolist())\n",
    "    report_10Wh = \"These were fixed on a PURPN by PUPRN basis by removing those PUPRNs' data from this year's output. Final count of PUPRNs saved is \"+str(final_PUPRN_count)\n",
    "    if all_PUPRN_count == (final_PUPRN_count + affected_PUPRN_count):\n",
    "        report_10Wh=report_10Wh+\". This is the expected number.\"\n",
    "    else:\n",
    "        report_10Wh=report_10Wh+\"\\nWARNING: This is NOT the expected number of PUPRNs - check for errors.\"\n",
    "else:\n",
    "    report_10Wh = \"No action was taken with these rows - the output contains these hh_sum values even if they are likely to be in the incorrect units (10Whs)\"\n",
    "\n",
    "# Convert to kWh\n",
    "energy_daily_data['Clean_elec_net_d_kWh'] = energy_daily_data.Clean_elec_net_d_Wh.div(1000)\n",
    "\n",
    "# Report back\n",
    "print(f\"There were {rowsof10Wh} rows where the daily import value is around 10x (8x-12x) the hh sum, out of a total of {all_data_length}.\\n {affected_PUPRN_count} PUPRNs are affected, out of a total of {all_PUPRN_count}.\\n{report_10Wh}\")"
   ]
  },
  {
   "cell_type": "code",
   "execution_count": null,
   "metadata": {},
   "outputs": [],
   "source": [
    "energy_daily_data[energy_daily_data.index.isin(exporter_puprn_list,level='PUPRN')].head()"
   ]
  },
  {
   "cell_type": "code",
   "execution_count": null,
   "metadata": {},
   "outputs": [],
   "source": [
    "# Save the relevant columns to merge with the gas readings later.\n",
    "if not os.path.exists(os.path.join(output_directory)):\n",
    "    os.makedirs(os.path.join(output_directory))\n",
    "energy_daily_data[['Clean_elec_net_d_kWh','Hh_sum_flag_elec']].to_csv(os.path.join(output_directory,output_filename),index=True)\n",
    "print(\"Job done. Everything saved.\")"
   ]
  },
  {
   "cell_type": "code",
   "execution_count": null,
   "metadata": {},
   "outputs": [],
   "source": []
  }
 ],
 "metadata": {
  "kernelspec": {
   "display_name": "Python 3",
   "language": "python",
   "name": "python3"
  },
  "language_info": {
   "codemirror_mode": {
    "name": "ipython",
    "version": 3
   },
   "file_extension": ".py",
   "mimetype": "text/x-python",
   "name": "python",
   "nbconvert_exporter": "python",
   "pygments_lexer": "ipython3",
   "version": "3.8.8"
  }
 },
 "nbformat": 4,
 "nbformat_minor": 4
}
