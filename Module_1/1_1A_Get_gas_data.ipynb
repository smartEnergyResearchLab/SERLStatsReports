{
 "cells": [
  {
   "cell_type": "markdown",
   "metadata": {},
   "source": [
    "# About\n",
    "This notebook will produce all the gas data for step 1.1A of the data processing for Module 1."
   ]
  },
  {
   "cell_type": "markdown",
   "metadata": {},
   "source": [
    "**Required user input**\n",
    "\n",
    "Update the cell below once each for the full years of 2019, 2020, 2021, and run the entire notebook for each.\n"
   ]
  },
  {
   "cell_type": "code",
   "execution_count": null,
   "metadata": {},
   "outputs": [],
   "source": [
    "year = '2021' # Update year - this is the year of data you are working on."
   ]
  },
  {
   "cell_type": "code",
   "execution_count": null,
   "metadata": {},
   "outputs": [],
   "source": [
    "# Don't change these.\n",
    "output_directory='Step_1_1_Outputs' \n",
    "\n",
    "first_date = year+'-01-01'\n",
    "last_date = year+'-12-31'\n",
    "daily_filename = 'Step_1_1A_Gas_'+year+'_daily'  # Filename shouldn't include '.csv'\n",
    "hh_subdir='Step_1_1A_Gas_'+year+'_hh'  # Filename shouldn't include '.csv'"
   ]
  },
  {
   "cell_type": "markdown",
   "metadata": {},
   "source": [
    "# Code"
   ]
  },
  {
   "cell_type": "code",
   "execution_count": null,
   "metadata": {},
   "outputs": [],
   "source": [
    "import os\n",
    "import pandas as pd\n",
    "from data_picker_edition_4_v01 import SerlDataSelector\n",
    "import locations\n",
    "import datetime\n",
    "now = datetime.datetime.now().strftime(\"%Y-%m-%d %H:%M\")\n",
    "print(f\"Run with Observatory data version: {locations.serl_data_version}\\nRun on {now}\")"
   ]
  },
  {
   "cell_type": "markdown",
   "metadata": {},
   "source": [
    "## Daily data "
   ]
  },
  {
   "cell_type": "code",
   "execution_count": null,
   "metadata": {},
   "outputs": [],
   "source": [
    "#Initialise the data picker\n",
    "selector = SerlDataSelector()"
   ]
  },
  {
   "cell_type": "code",
   "execution_count": null,
   "metadata": {},
   "outputs": [],
   "source": [
    "# Create the data\n",
    "selector.load_data(res='daily',\n",
    "                   usecols=['PUPRN','Read_date_effective_local','Valid_read_time','Gas_sum_match','Gas_flag','Gas_d_kWh','Gas_hh_sum_m3'],\n",
    "                   filter_Valid_read_time=True,\n",
    "                   first_date = first_date,\n",
    "                   last_date = last_date,\n",
    "                   inc_time_change_days=True,\n",
    "                   add_sum_gas_column=True) \n",
    "# Save it\n",
    "selector.save_data(output_filename=daily_filename,\n",
    "                   output_directory=output_directory,\n",
    "                   save_method='single_file')"
   ]
  },
  {
   "cell_type": "markdown",
   "metadata": {},
   "source": [
    "## Half-hourly data"
   ]
  },
  {
   "cell_type": "markdown",
   "metadata": {},
   "source": [
    "### Load the data with the data picker"
   ]
  },
  {
   "cell_type": "code",
   "execution_count": null,
   "metadata": {},
   "outputs": [],
   "source": [
    "# Initialise the data picker\n",
    "selector = SerlDataSelector('hh')"
   ]
  },
  {
   "cell_type": "code",
   "execution_count": null,
   "metadata": {},
   "outputs": [],
   "source": [
    "selector.load_data(res='hh',\n",
    "                   usecols=['PUPRN','Read_date_time_UTC','Read_date_effective_local','Read_date_time_local','Valid_read_time','Gas_flag','Gas_hh_Wh'],\n",
    "                   filter_Gas_flag=[1],\n",
    "                   filter_Valid_read_time=True,\n",
    "                   first_date = first_date,\n",
    "                   last_date = last_date,\n",
    "                   inc_time_change_days=True,\n",
    "                   add_local_time_cols = False)\n",
    "# Save it\n",
    "selector.save_data(output_filename=hh_subdir,\n",
    "                   output_directory=output_directory,\n",
    "                   save_method='per_home')"
   ]
  },
  {
   "cell_type": "code",
   "execution_count": null,
   "metadata": {},
   "outputs": [],
   "source": []
  }
 ],
 "metadata": {
  "kernelspec": {
   "display_name": "DEDEUS_HDBSCAN_kernel",
   "language": "python",
   "name": "dedeus_hdbscan_kernel"
  },
  "language_info": {
   "codemirror_mode": {
    "name": "ipython",
    "version": 3
   },
   "file_extension": ".py",
   "mimetype": "text/x-python",
   "name": "python",
   "nbconvert_exporter": "python",
   "pygments_lexer": "ipython3",
   "version": "3.6.2"
  }
 },
 "nbformat": 4,
 "nbformat_minor": 4
}
